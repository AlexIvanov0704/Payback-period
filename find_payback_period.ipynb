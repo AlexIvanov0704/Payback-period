{
  "cells": [
    {
      "cell_type": "markdown",
      "id": "a106af48",
      "metadata": {
        "id": "a106af48"
      },
      "source": [
        "##### На основе данных из файла user_acquisition.csv оцените, когда окупится данная рекламная кампания."
      ]
    },
    {
      "cell_type": "markdown",
      "id": "66bfc958",
      "metadata": {
        "id": "66bfc958"
      },
      "source": [
        "Импортируем библиотеки, которые могут пригодиться для манипуляции данными."
      ]
    },
    {
      "cell_type": "code",
      "execution_count": null,
      "id": "16b4a86d",
      "metadata": {
        "id": "16b4a86d"
      },
      "outputs": [],
      "source": [
        "import numpy as np\n",
        "import pandas as pd\n",
        "import matplotlib.pyplot as plt\n",
        "from scipy.optimize import curve_fit"
      ]
    },
    {
      "cell_type": "code",
      "execution_count": null,
      "id": "a336812d",
      "metadata": {
        "id": "a336812d"
      },
      "outputs": [],
      "source": [
        "df_csv = pd.read_csv('user_acquisition.csv')"
      ]
    },
    {
      "cell_type": "code",
      "execution_count": null,
      "id": "069804f3",
      "metadata": {
        "colab": {
          "base_uri": "https://localhost:8080/",
          "height": 204
        },
        "id": "069804f3",
        "outputId": "65275ade-d16c-4a6f-da70-c819999c7777"
      },
      "outputs": [
        {
          "data": {
            "text/html": [
              "<div>\n",
              "<style scoped>\n",
              "    .dataframe tbody tr th:only-of-type {\n",
              "        vertical-align: middle;\n",
              "    }\n",
              "\n",
              "    .dataframe tbody tr th {\n",
              "        vertical-align: top;\n",
              "    }\n",
              "\n",
              "    .dataframe thead th {\n",
              "        text-align: right;\n",
              "    }\n",
              "</style>\n",
              "<table border=\"1\" class=\"dataframe\">\n",
              "  <thead>\n",
              "    <tr style=\"text-align: right;\">\n",
              "      <th></th>\n",
              "      <th>Unnamed: 0</th>\n",
              "      <th>customer_user_id</th>\n",
              "      <th>platform</th>\n",
              "      <th>media_source</th>\n",
              "      <th>campaign</th>\n",
              "      <th>install_date</th>\n",
              "      <th>cpi</th>\n",
              "      <th>visit_date</th>\n",
              "      <th>revenue</th>\n",
              "    </tr>\n",
              "  </thead>\n",
              "  <tbody>\n",
              "    <tr>\n",
              "      <th>0</th>\n",
              "      <td>0</td>\n",
              "      <td>241706</td>\n",
              "      <td>android</td>\n",
              "      <td>unityads_int</td>\n",
              "      <td>HC|Android|retention|US</td>\n",
              "      <td>2020-09-14</td>\n",
              "      <td>0.958889</td>\n",
              "      <td>2020-09-22</td>\n",
              "      <td>0.034333</td>\n",
              "    </tr>\n",
              "    <tr>\n",
              "      <th>1</th>\n",
              "      <td>1</td>\n",
              "      <td>241143</td>\n",
              "      <td>android</td>\n",
              "      <td>unityads_int</td>\n",
              "      <td>HC|Android|retention|US</td>\n",
              "      <td>2020-09-14</td>\n",
              "      <td>0.984545</td>\n",
              "      <td>2020-09-14</td>\n",
              "      <td>0.121975</td>\n",
              "    </tr>\n",
              "    <tr>\n",
              "      <th>2</th>\n",
              "      <td>2</td>\n",
              "      <td>242764</td>\n",
              "      <td>android</td>\n",
              "      <td>unityads_int</td>\n",
              "      <td>HC|Android|retention|US</td>\n",
              "      <td>2020-09-15</td>\n",
              "      <td>1.002273</td>\n",
              "      <td>2020-09-16</td>\n",
              "      <td>0.177648</td>\n",
              "    </tr>\n",
              "    <tr>\n",
              "      <th>3</th>\n",
              "      <td>3</td>\n",
              "      <td>242947</td>\n",
              "      <td>android</td>\n",
              "      <td>unityads_int</td>\n",
              "      <td>HC|Android|retention|US</td>\n",
              "      <td>2020-09-15</td>\n",
              "      <td>1.054444</td>\n",
              "      <td>2020-09-22</td>\n",
              "      <td>0.043012</td>\n",
              "    </tr>\n",
              "    <tr>\n",
              "      <th>4</th>\n",
              "      <td>4</td>\n",
              "      <td>242947</td>\n",
              "      <td>android</td>\n",
              "      <td>unityads_int</td>\n",
              "      <td>HC|Android|retention|US</td>\n",
              "      <td>2020-09-15</td>\n",
              "      <td>1.054444</td>\n",
              "      <td>2020-09-24</td>\n",
              "      <td>0.045508</td>\n",
              "    </tr>\n",
              "  </tbody>\n",
              "</table>\n",
              "</div>"
            ],
            "text/plain": [
              "   Unnamed: 0  customer_user_id platform  ...       cpi  visit_date   revenue\n",
              "0           0            241706  android  ...  0.958889  2020-09-22  0.034333\n",
              "1           1            241143  android  ...  0.984545  2020-09-14  0.121975\n",
              "2           2            242764  android  ...  1.002273  2020-09-16  0.177648\n",
              "3           3            242947  android  ...  1.054444  2020-09-22  0.043012\n",
              "4           4            242947  android  ...  1.054444  2020-09-24  0.045508\n",
              "\n",
              "[5 rows x 9 columns]"
            ]
          },
          "execution_count": 6,
          "metadata": {},
          "output_type": "execute_result"
        }
      ],
      "source": [
        "df_csv.head()"
      ]
    },
    {
      "cell_type": "markdown",
      "id": "5cffcde2",
      "metadata": {
        "id": "5cffcde2"
      },
      "source": [
        "Предложенная выборка содержит данные о пользователях присоединившихся в течении месяца (с 2020-08-16 по 2020-01-16)."
      ]
    },
    {
      "cell_type": "code",
      "execution_count": null,
      "id": "071f273f",
      "metadata": {
        "colab": {
          "base_uri": "https://localhost:8080/"
        },
        "id": "071f273f",
        "outputId": "380432cb-6966-4597-9830-985d7e37d054"
      },
      "outputs": [
        {
          "data": {
            "text/plain": [
              "{'max install_date': '2020-09-16', 'min insall_date': '2020-08-16'}"
            ]
          },
          "execution_count": 7,
          "metadata": {},
          "output_type": "execute_result"
        }
      ],
      "source": [
        "{'min insall_date':df_csv['install_date'].min(),'max install_date':df_csv['install_date'].max()}"
      ]
    },
    {
      "cell_type": "markdown",
      "id": "7794a4ed",
      "metadata": {
        "id": "7794a4ed"
      },
      "source": [
        "Добавим поле ``day``, где будет посчитано, на какой день после инсталяции игры была совершена транзакция."
      ]
    },
    {
      "cell_type": "code",
      "execution_count": null,
      "id": "2ccbd9fe",
      "metadata": {
        "id": "2ccbd9fe"
      },
      "outputs": [],
      "source": [
        "df_csv[['visit_date','install_date']] = df_csv[['visit_date','install_date']].apply(pd.to_datetime) \n",
        "df_csv['day']=(df_csv['visit_date'] - df_csv['install_date']).dt.days+1"
      ]
    },
    {
      "cell_type": "markdown",
      "id": "ce407b77",
      "metadata": {
        "id": "ce407b77"
      },
      "source": [
        "Построив датафрейм по одному игроку, видим, что часть информации дублируется: в каждой строке уникальны только ``visit_date``, ``revenue`` и ``day``. В то время как ``install_date`` и ``cpi`` повторяются. Следовательно имеет смысл разделить данные на два датафрейма: с данными о стоимости рекламной кампании и с данными о выручке."
      ]
    },
    {
      "cell_type": "code",
      "execution_count": null,
      "id": "7e63330e",
      "metadata": {
        "colab": {
          "base_uri": "https://localhost:8080/",
          "height": 272
        },
        "id": "7e63330e",
        "outputId": "115a399e-26f4-4be9-e9d4-e9f983fb4bcb"
      },
      "outputs": [
        {
          "data": {
            "text/html": [
              "<div>\n",
              "<style scoped>\n",
              "    .dataframe tbody tr th:only-of-type {\n",
              "        vertical-align: middle;\n",
              "    }\n",
              "\n",
              "    .dataframe tbody tr th {\n",
              "        vertical-align: top;\n",
              "    }\n",
              "\n",
              "    .dataframe thead th {\n",
              "        text-align: right;\n",
              "    }\n",
              "</style>\n",
              "<table border=\"1\" class=\"dataframe\">\n",
              "  <thead>\n",
              "    <tr style=\"text-align: right;\">\n",
              "      <th></th>\n",
              "      <th>Unnamed: 0</th>\n",
              "      <th>customer_user_id</th>\n",
              "      <th>platform</th>\n",
              "      <th>media_source</th>\n",
              "      <th>campaign</th>\n",
              "      <th>install_date</th>\n",
              "      <th>cpi</th>\n",
              "      <th>visit_date</th>\n",
              "      <th>revenue</th>\n",
              "      <th>day</th>\n",
              "    </tr>\n",
              "  </thead>\n",
              "  <tbody>\n",
              "    <tr>\n",
              "      <th>0</th>\n",
              "      <td>0</td>\n",
              "      <td>241706</td>\n",
              "      <td>android</td>\n",
              "      <td>unityads_int</td>\n",
              "      <td>HC|Android|retention|US</td>\n",
              "      <td>2020-09-14</td>\n",
              "      <td>0.958889</td>\n",
              "      <td>2020-09-22</td>\n",
              "      <td>0.034333</td>\n",
              "      <td>9</td>\n",
              "    </tr>\n",
              "    <tr>\n",
              "      <th>495</th>\n",
              "      <td>495</td>\n",
              "      <td>241706</td>\n",
              "      <td>android</td>\n",
              "      <td>unityads_int</td>\n",
              "      <td>HC|Android|retention|US</td>\n",
              "      <td>2020-09-14</td>\n",
              "      <td>0.958889</td>\n",
              "      <td>2020-09-16</td>\n",
              "      <td>0.190701</td>\n",
              "      <td>3</td>\n",
              "    </tr>\n",
              "    <tr>\n",
              "      <th>2264</th>\n",
              "      <td>2264</td>\n",
              "      <td>241706</td>\n",
              "      <td>android</td>\n",
              "      <td>unityads_int</td>\n",
              "      <td>HC|Android|retention|US</td>\n",
              "      <td>2020-09-14</td>\n",
              "      <td>0.958889</td>\n",
              "      <td>2020-09-21</td>\n",
              "      <td>0.114351</td>\n",
              "      <td>8</td>\n",
              "    </tr>\n",
              "    <tr>\n",
              "      <th>2406</th>\n",
              "      <td>2406</td>\n",
              "      <td>241706</td>\n",
              "      <td>android</td>\n",
              "      <td>unityads_int</td>\n",
              "      <td>HC|Android|retention|US</td>\n",
              "      <td>2020-09-14</td>\n",
              "      <td>0.958889</td>\n",
              "      <td>2020-09-14</td>\n",
              "      <td>0.273077</td>\n",
              "      <td>1</td>\n",
              "    </tr>\n",
              "    <tr>\n",
              "      <th>2687</th>\n",
              "      <td>2687</td>\n",
              "      <td>241706</td>\n",
              "      <td>android</td>\n",
              "      <td>unityads_int</td>\n",
              "      <td>HC|Android|retention|US</td>\n",
              "      <td>2020-09-14</td>\n",
              "      <td>0.958889</td>\n",
              "      <td>2020-09-17</td>\n",
              "      <td>0.352483</td>\n",
              "      <td>4</td>\n",
              "    </tr>\n",
              "    <tr>\n",
              "      <th>4100</th>\n",
              "      <td>4100</td>\n",
              "      <td>241706</td>\n",
              "      <td>android</td>\n",
              "      <td>unityads_int</td>\n",
              "      <td>HC|Android|retention|US</td>\n",
              "      <td>2020-09-14</td>\n",
              "      <td>0.958889</td>\n",
              "      <td>2020-09-18</td>\n",
              "      <td>0.142658</td>\n",
              "      <td>5</td>\n",
              "    </tr>\n",
              "  </tbody>\n",
              "</table>\n",
              "</div>"
            ],
            "text/plain": [
              "      Unnamed: 0  customer_user_id platform  ... visit_date   revenue day\n",
              "0              0            241706  android  ... 2020-09-22  0.034333   9\n",
              "495          495            241706  android  ... 2020-09-16  0.190701   3\n",
              "2264        2264            241706  android  ... 2020-09-21  0.114351   8\n",
              "2406        2406            241706  android  ... 2020-09-14  0.273077   1\n",
              "2687        2687            241706  android  ... 2020-09-17  0.352483   4\n",
              "4100        4100            241706  android  ... 2020-09-18  0.142658   5\n",
              "\n",
              "[6 rows x 10 columns]"
            ]
          },
          "execution_count": 9,
          "metadata": {},
          "output_type": "execute_result"
        }
      ],
      "source": [
        "df_csv.loc[df_csv['customer_user_id']==241706]"
      ]
    },
    {
      "cell_type": "code",
      "execution_count": null,
      "id": "8f3076fd",
      "metadata": {
        "id": "8f3076fd"
      },
      "outputs": [],
      "source": [
        "df_rev = df_csv[['customer_user_id','revenue','day']]"
      ]
    },
    {
      "cell_type": "markdown",
      "id": "715d93d7",
      "metadata": {
        "id": "715d93d7"
      },
      "source": [
        "Далее выясняем, что хоть у нас данные и содержат информацию о пользователях за месяц, тем не менее выгрузка состоит транзакцй за первые 15 дней с момента инсталяции по кадому пользователю."
      ]
    },
    {
      "cell_type": "code",
      "execution_count": null,
      "id": "849f0d16",
      "metadata": {
        "colab": {
          "base_uri": "https://localhost:8080/",
          "height": 470
        },
        "id": "849f0d16",
        "outputId": "419085e4-ad5f-44cf-e052-9c3929443e01"
      },
      "outputs": [
        {
          "data": {
            "text/html": [
              "<div>\n",
              "<style scoped>\n",
              "    .dataframe tbody tr th:only-of-type {\n",
              "        vertical-align: middle;\n",
              "    }\n",
              "\n",
              "    .dataframe tbody tr th {\n",
              "        vertical-align: top;\n",
              "    }\n",
              "\n",
              "    .dataframe thead th {\n",
              "        text-align: right;\n",
              "    }\n",
              "</style>\n",
              "<table border=\"1\" class=\"dataframe\">\n",
              "  <thead>\n",
              "    <tr style=\"text-align: right;\">\n",
              "      <th>day</th>\n",
              "      <th>1</th>\n",
              "      <th>2</th>\n",
              "      <th>3</th>\n",
              "      <th>4</th>\n",
              "      <th>5</th>\n",
              "      <th>6</th>\n",
              "      <th>7</th>\n",
              "      <th>8</th>\n",
              "      <th>9</th>\n",
              "      <th>10</th>\n",
              "      <th>11</th>\n",
              "      <th>12</th>\n",
              "      <th>13</th>\n",
              "      <th>14</th>\n",
              "      <th>15</th>\n",
              "    </tr>\n",
              "    <tr>\n",
              "      <th>customer_user_id</th>\n",
              "      <th></th>\n",
              "      <th></th>\n",
              "      <th></th>\n",
              "      <th></th>\n",
              "      <th></th>\n",
              "      <th></th>\n",
              "      <th></th>\n",
              "      <th></th>\n",
              "      <th></th>\n",
              "      <th></th>\n",
              "      <th></th>\n",
              "      <th></th>\n",
              "      <th></th>\n",
              "      <th></th>\n",
              "      <th></th>\n",
              "    </tr>\n",
              "  </thead>\n",
              "  <tbody>\n",
              "    <tr>\n",
              "      <th>175552</th>\n",
              "      <td>0.105317</td>\n",
              "      <td>NaN</td>\n",
              "      <td>NaN</td>\n",
              "      <td>NaN</td>\n",
              "      <td>NaN</td>\n",
              "      <td>NaN</td>\n",
              "      <td>NaN</td>\n",
              "      <td>NaN</td>\n",
              "      <td>NaN</td>\n",
              "      <td>NaN</td>\n",
              "      <td>NaN</td>\n",
              "      <td>NaN</td>\n",
              "      <td>NaN</td>\n",
              "      <td>NaN</td>\n",
              "      <td>NaN</td>\n",
              "    </tr>\n",
              "    <tr>\n",
              "      <th>175555</th>\n",
              "      <td>0.018973</td>\n",
              "      <td>NaN</td>\n",
              "      <td>NaN</td>\n",
              "      <td>NaN</td>\n",
              "      <td>NaN</td>\n",
              "      <td>NaN</td>\n",
              "      <td>NaN</td>\n",
              "      <td>NaN</td>\n",
              "      <td>NaN</td>\n",
              "      <td>NaN</td>\n",
              "      <td>NaN</td>\n",
              "      <td>NaN</td>\n",
              "      <td>NaN</td>\n",
              "      <td>NaN</td>\n",
              "      <td>NaN</td>\n",
              "    </tr>\n",
              "    <tr>\n",
              "      <th>175600</th>\n",
              "      <td>0.043757</td>\n",
              "      <td>NaN</td>\n",
              "      <td>NaN</td>\n",
              "      <td>NaN</td>\n",
              "      <td>NaN</td>\n",
              "      <td>NaN</td>\n",
              "      <td>NaN</td>\n",
              "      <td>NaN</td>\n",
              "      <td>NaN</td>\n",
              "      <td>NaN</td>\n",
              "      <td>NaN</td>\n",
              "      <td>NaN</td>\n",
              "      <td>NaN</td>\n",
              "      <td>NaN</td>\n",
              "      <td>NaN</td>\n",
              "    </tr>\n",
              "    <tr>\n",
              "      <th>175630</th>\n",
              "      <td>0.098686</td>\n",
              "      <td>NaN</td>\n",
              "      <td>NaN</td>\n",
              "      <td>NaN</td>\n",
              "      <td>NaN</td>\n",
              "      <td>NaN</td>\n",
              "      <td>NaN</td>\n",
              "      <td>NaN</td>\n",
              "      <td>NaN</td>\n",
              "      <td>NaN</td>\n",
              "      <td>NaN</td>\n",
              "      <td>NaN</td>\n",
              "      <td>NaN</td>\n",
              "      <td>NaN</td>\n",
              "      <td>NaN</td>\n",
              "    </tr>\n",
              "    <tr>\n",
              "      <th>175652</th>\n",
              "      <td>0.163873</td>\n",
              "      <td>0.033173</td>\n",
              "      <td>0.290392</td>\n",
              "      <td>0.288956</td>\n",
              "      <td>0.285476</td>\n",
              "      <td>0.109673</td>\n",
              "      <td>NaN</td>\n",
              "      <td>0.623671</td>\n",
              "      <td>0.328915</td>\n",
              "      <td>0.388565</td>\n",
              "      <td>0.696533</td>\n",
              "      <td>1.481227</td>\n",
              "      <td>0.340509</td>\n",
              "      <td>0.915405</td>\n",
              "      <td>NaN</td>\n",
              "    </tr>\n",
              "    <tr>\n",
              "      <th>...</th>\n",
              "      <td>...</td>\n",
              "      <td>...</td>\n",
              "      <td>...</td>\n",
              "      <td>...</td>\n",
              "      <td>...</td>\n",
              "      <td>...</td>\n",
              "      <td>...</td>\n",
              "      <td>...</td>\n",
              "      <td>...</td>\n",
              "      <td>...</td>\n",
              "      <td>...</td>\n",
              "      <td>...</td>\n",
              "      <td>...</td>\n",
              "      <td>...</td>\n",
              "      <td>...</td>\n",
              "    </tr>\n",
              "    <tr>\n",
              "      <th>247842</th>\n",
              "      <td>0.048507</td>\n",
              "      <td>NaN</td>\n",
              "      <td>0.038963</td>\n",
              "      <td>NaN</td>\n",
              "      <td>NaN</td>\n",
              "      <td>NaN</td>\n",
              "      <td>NaN</td>\n",
              "      <td>NaN</td>\n",
              "      <td>0.101467</td>\n",
              "      <td>0.075950</td>\n",
              "      <td>NaN</td>\n",
              "      <td>NaN</td>\n",
              "      <td>NaN</td>\n",
              "      <td>NaN</td>\n",
              "      <td>NaN</td>\n",
              "    </tr>\n",
              "    <tr>\n",
              "      <th>248028</th>\n",
              "      <td>0.034170</td>\n",
              "      <td>NaN</td>\n",
              "      <td>NaN</td>\n",
              "      <td>0.002324</td>\n",
              "      <td>NaN</td>\n",
              "      <td>NaN</td>\n",
              "      <td>NaN</td>\n",
              "      <td>NaN</td>\n",
              "      <td>NaN</td>\n",
              "      <td>NaN</td>\n",
              "      <td>NaN</td>\n",
              "      <td>NaN</td>\n",
              "      <td>NaN</td>\n",
              "      <td>NaN</td>\n",
              "      <td>NaN</td>\n",
              "    </tr>\n",
              "    <tr>\n",
              "      <th>248094</th>\n",
              "      <td>0.015150</td>\n",
              "      <td>NaN</td>\n",
              "      <td>0.093614</td>\n",
              "      <td>NaN</td>\n",
              "      <td>NaN</td>\n",
              "      <td>NaN</td>\n",
              "      <td>NaN</td>\n",
              "      <td>NaN</td>\n",
              "      <td>NaN</td>\n",
              "      <td>NaN</td>\n",
              "      <td>NaN</td>\n",
              "      <td>NaN</td>\n",
              "      <td>NaN</td>\n",
              "      <td>NaN</td>\n",
              "      <td>NaN</td>\n",
              "    </tr>\n",
              "    <tr>\n",
              "      <th>249747</th>\n",
              "      <td>NaN</td>\n",
              "      <td>NaN</td>\n",
              "      <td>NaN</td>\n",
              "      <td>NaN</td>\n",
              "      <td>0.031670</td>\n",
              "      <td>0.136497</td>\n",
              "      <td>NaN</td>\n",
              "      <td>NaN</td>\n",
              "      <td>0.063962</td>\n",
              "      <td>NaN</td>\n",
              "      <td>NaN</td>\n",
              "      <td>NaN</td>\n",
              "      <td>0.112201</td>\n",
              "      <td>0.025569</td>\n",
              "      <td>NaN</td>\n",
              "    </tr>\n",
              "    <tr>\n",
              "      <th>280200</th>\n",
              "      <td>NaN</td>\n",
              "      <td>NaN</td>\n",
              "      <td>NaN</td>\n",
              "      <td>NaN</td>\n",
              "      <td>NaN</td>\n",
              "      <td>NaN</td>\n",
              "      <td>NaN</td>\n",
              "      <td>NaN</td>\n",
              "      <td>NaN</td>\n",
              "      <td>NaN</td>\n",
              "      <td>NaN</td>\n",
              "      <td>NaN</td>\n",
              "      <td>NaN</td>\n",
              "      <td>NaN</td>\n",
              "      <td>0.108667</td>\n",
              "    </tr>\n",
              "  </tbody>\n",
              "</table>\n",
              "<p>1052 rows × 15 columns</p>\n",
              "</div>"
            ],
            "text/plain": [
              "day                     1         2         3   ...        13        14        15\n",
              "customer_user_id                                ...                              \n",
              "175552            0.105317       NaN       NaN  ...       NaN       NaN       NaN\n",
              "175555            0.018973       NaN       NaN  ...       NaN       NaN       NaN\n",
              "175600            0.043757       NaN       NaN  ...       NaN       NaN       NaN\n",
              "175630            0.098686       NaN       NaN  ...       NaN       NaN       NaN\n",
              "175652            0.163873  0.033173  0.290392  ...  0.340509  0.915405       NaN\n",
              "...                    ...       ...       ...  ...       ...       ...       ...\n",
              "247842            0.048507       NaN  0.038963  ...       NaN       NaN       NaN\n",
              "248028            0.034170       NaN       NaN  ...       NaN       NaN       NaN\n",
              "248094            0.015150       NaN  0.093614  ...       NaN       NaN       NaN\n",
              "249747                 NaN       NaN       NaN  ...  0.112201  0.025569       NaN\n",
              "280200                 NaN       NaN       NaN  ...       NaN       NaN  0.108667\n",
              "\n",
              "[1052 rows x 15 columns]"
            ]
          },
          "metadata": {},
          "output_type": "display_data"
        }
      ],
      "source": [
        "display(pd.pivot_table(df_rev, values='revenue', index=['customer_user_id'],\n",
        "                    columns=['day'], aggfunc=np.sum))"
      ]
    },
    {
      "cell_type": "code",
      "execution_count": null,
      "id": "1f50341c",
      "metadata": {
        "id": "1f50341c"
      },
      "outputs": [],
      "source": [
        "df_cpi = df_csv[['customer_user_id','cpi']].drop_duplicates()"
      ]
    },
    {
      "cell_type": "markdown",
      "id": "cb70b55f",
      "metadata": {
        "id": "cb70b55f"
      },
      "source": [
        "Посчитаем основные метрики. \n",
        "* ``MAU`` - количество уникальных пользоватейл в рассматриваемом месяце;\n",
        "* ``CPI`` - средняя стоимость привлечения одного опользователя;\n",
        "* ``ARPU`` - средний доход от пользователя в день\n",
        "* ``PP1`` - срок окупаемости рекламной кампании, посчитанный как ``CPI``/``ARPU``"
      ]
    },
    {
      "cell_type": "code",
      "execution_count": null,
      "id": "0b427516",
      "metadata": {
        "colab": {
          "base_uri": "https://localhost:8080/"
        },
        "id": "0b427516",
        "outputId": "6c117567-4eca-415a-bc48-65761a57b454"
      },
      "outputs": [
        {
          "name": "stdout",
          "output_type": "stream",
          "text": [
            "MAU: 1052\n",
            "CPI: 1.174\n",
            "ARPU: 0.057\n",
            "PP1: 20.72\n"
          ]
        }
      ],
      "source": [
        "MAU = df_cpi['customer_user_id'].count()\n",
        "CPI = df_cpi['cpi'].sum()/MAU\n",
        "ARPU = df_rev['revenue'].sum()/df_rev['day'].max()/MAU\n",
        "PP1 = CPI/ARPU\n",
        "print('MAU:', MAU,  sep=' ')\n",
        "print('CPI:', round(CPI,3),  sep=' ')\n",
        "print('ARPU:', round(ARPU,3),  sep=' ')\n",
        "print('PP1:', round(PP1,2),  sep=' ')"
      ]
    },
    {
      "cell_type": "markdown",
      "id": "512f32b7",
      "metadata": {
        "id": "512f32b7"
      },
      "source": [
        "``PP1`` несколько неточен по предложенному выше методу, так как основан на ``ARPU`` за первые 15 дней, в то время как в дальнейшем среднеденвная выручка будет снижаться. \n",
        "Более точным будет посчитать срок окупаемости ``PP2`` путем построения функции ``ARPU`` с накопительным итогом."
      ]
    },
    {
      "cell_type": "code",
      "execution_count": null,
      "id": "13b20547",
      "metadata": {
        "id": "13b20547"
      },
      "outputs": [],
      "source": [
        "df_cumARPU=df_rev[['day','revenue']].groupby(['day']).sum().reset_index()\n",
        "df_cumARPU['revenue']=(df_cumARPU['revenue']/MAU).cumsum()"
      ]
    },
    {
      "cell_type": "code",
      "execution_count": null,
      "id": "efdb6fb5",
      "metadata": {
        "colab": {
          "base_uri": "https://localhost:8080/",
          "height": 317
        },
        "id": "efdb6fb5",
        "outputId": "8dcc91a7-7257-44e5-9ff3-9830d09ed5bb"
      },
      "outputs": [
        {
          "data": {
            "text/plain": [
              "Text(0, 0.5, '$')"
            ]
          },
          "execution_count": 15,
          "metadata": {},
          "output_type": "execute_result"
        },
        {
          "data": {
            "image/png": "[encoded data removed]",
            "text/plain": [
              "<Figure size 432x288 with 1 Axes>"
            ]
          },
          "metadata": {
            "needs_background": "light"
          },
          "output_type": "display_data"
        }
      ],
      "source": [
        "plt.plot(df_cumARPU['day'],df_cumARPU['revenue'],'-',df_cumARPU['day'],[CPI for x in range(df_rev['day'].max())])\n",
        "plt.title('ARPU vs CPI', fontsize=15)\n",
        "plt.xlabel('Day', fontsize=12, color='blue')\n",
        "plt.ylabel('$', fontsize=12, color='blue')"
      ]
    },
    {
      "cell_type": "markdown",
      "id": "298bd499",
      "metadata": {
        "id": "298bd499"
      },
      "source": [
        "Т.к. за 15 дней рекламная кампания не окупилась, то нужно построить такую функцию, которая хорошо опишет текущий тренд. Методом перебора остановился на функции, представленной ниже."
      ]
    },
    {
      "cell_type": "code",
      "execution_count": null,
      "id": "0ead69c4",
      "metadata": {
        "id": "0ead69c4"
      },
      "outputs": [],
      "source": [
        "def func(x, A, B, C, D):\n",
        "    return A*np.log((x**B)/C+D)"
      ]
    },
    {
      "cell_type": "markdown",
      "id": "91f5ce4e",
      "metadata": {
        "id": "91f5ce4e"
      },
      "source": [
        "Совершаю поиск оптимальных параметров A, B, C и D:"
      ]
    },
    {
      "cell_type": "code",
      "execution_count": null,
      "id": "badfef84",
      "metadata": {
        "id": "badfef84"
      },
      "outputs": [],
      "source": [
        "\n",
        "x=np.array(df_cumARPU['day'])\n",
        "y=np.array(df_cumARPU['revenue'])"
      ]
    },
    {
      "cell_type": "code",
      "execution_count": null,
      "id": "adb4fc01",
      "metadata": {
        "id": "adb4fc01"
      },
      "outputs": [],
      "source": [
        "u, z = curve_fit(func, x, y,  p0=(0.1, 0.1,0.1,0.1), maxfev=5000)"
      ]
    },
    {
      "cell_type": "code",
      "execution_count": null,
      "id": "03c230c6",
      "metadata": {
        "id": "03c230c6"
      },
      "outputs": [],
      "source": [
        "t = np.linspace(1.0, 30, 30)"
      ]
    },
    {
      "cell_type": "code",
      "execution_count": null,
      "id": "9a5380e1",
      "metadata": {
        "colab": {
          "base_uri": "https://localhost:8080/",
          "height": 300
        },
        "id": "9a5380e1",
        "outputId": "ef31e35a-3696-4d55-83d8-69105a44aaac"
      },
      "outputs": [
        {
          "data": {
            "image/png": "[encoded data removed]",
            "text/plain": [
              "<Figure size 432x288 with 1 Axes>"
            ]
          },
          "metadata": {
            "needs_background": "light"
          },
          "output_type": "display_data"
        }
      ],
      "source": [
        "plt.plot(df_cumARPU['day'],df_cumARPU['revenue'],'-',t,[CPI for x in range(30)],'-',t,func(t, *u),':')\n",
        "plt.xlabel('Day', fontsize=12, color='blue')\n",
        "plt.ylabel('$', fontsize=12, color='blue')\n",
        "plt.xticks(np.arange(0, 30, step=2.0))\n",
        "plt.title('ARPU vs CPI with Trend', fontsize=15)\n",
        "plt.grid(True)"
      ]
    },
    {
      "cell_type": "markdown",
      "id": "b669af07",
      "metadata": {
        "id": "b669af07"
      },
      "source": [
        "На полученном графике видно, совокупный доход с одного человека превысит затраты на его привлечение на ``26-ой день``. Это и есть срок окупаемости ``PP2``."
      ]
    }
  ],
  "metadata": {
    "colab": {
      "name": "test task - find PP.ipynb",
      "provenance": []
    },
    "kernelspec": {
      "display_name": "Python 3.8 (XPython)",
      "language": "python",
      "name": "xpython"
    },
    "language_info": {
      "file_extension": ".py",
      "mimetype": "text/x-python",
      "name": "python",
      "version": "3.8.6"
    }
  },
  "nbformat": 4,
  "nbformat_minor": 5
}
